{
 "cells": [
  {
   "cell_type": "code",
   "execution_count": 2,
   "metadata": {},
   "outputs": [],
   "source": [
    "import time\n",
    "import random"
   ]
  },
  {
   "cell_type": "markdown",
   "metadata": {},
   "source": [
    "# Game"
   ]
  },
  {
   "cell_type": "code",
   "execution_count": 3,
   "metadata": {},
   "outputs": [
    {
     "name": "stdout",
     "output_type": "stream",
     "text": [
      "Hi\n",
      "Lets play a game\n",
      "Please enter your nameSaravana\n",
      "Hey Saravana Please guess a number between 1 and 4\n",
      "Please enter your number3\n",
      "\n",
      "\n",
      "Your guess was big\n"
     ]
    }
   ],
   "source": [
    "print('Hi')\n",
    "time.sleep(2)\n",
    "print('Lets play a game')\n",
    "time.sleep(3)\n",
    "name=input('Please enter your name')\n",
    "time.sleep(2.1)\n",
    "number= random.randint(1,4)\n",
    "time.sleep(2.1)\n",
    "print('Hey',name,'Please guess a number between 1 and 4')\n",
    "time.sleep(2)\n",
    "guess=int(input('Please enter your number'))\n",
    "time.sleep(2)\n",
    "print('\\n')\n",
    "\n",
    "if guess<number:\n",
    "    print('Your guess was small')\n",
    "elif guess>number:\n",
    "    print('Your guess was big')\n",
    "else:\n",
    "    print('You guessed it right')\n",
    "\n",
    "time.sleep(2)    \n",
    "\n",
    "if guess==number:\n",
    "    print('Congrats')"
   ]
  }
 ],
 "metadata": {
  "kernelspec": {
   "display_name": "Python 3",
   "language": "python",
   "name": "python3"
  },
  "language_info": {
   "codemirror_mode": {
    "name": "ipython",
    "version": 3
   },
   "file_extension": ".py",
   "mimetype": "text/x-python",
   "name": "python",
   "nbconvert_exporter": "python",
   "pygments_lexer": "ipython3",
   "version": "3.6.4"
  }
 },
 "nbformat": 4,
 "nbformat_minor": 2
}
